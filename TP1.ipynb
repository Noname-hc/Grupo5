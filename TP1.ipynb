{
  "cells": [
    {
      "attachments": {},
      "cell_type": "markdown",
      "metadata": {
        "id": "jWUX78DM7n9T"
      },
      "source": [
        "# Temas Tratados en el Trabajo Práctico 1\n",
        "\n",
        "* Diferencia entre Inteligencia e Inteligencia Artificial.\n",
        "\n",
        "* Concepto de omnisciencia, aprendizaje y autonomía.\n",
        "\n",
        "* Definición de Agente y sus características. Clasificación de Agentes según su estructura.\n",
        "\n",
        "* Identificación y categorización del Entorno de Trabajo en tabla REAS.\n",
        "\n",
        "* Caracterización del Entorno de Trabajo.\n",
        "\n",
        "# Anotaciones\n",
        "\n",
        "\"Acordarse de la definición de agente\""
      ]
    },
    {
      "cell_type": "markdown",
      "metadata": {},
      "source": [
        "# Ejercicios Teóricos\n",
        "\n",
        "1. Defina con sus propias palabras inteligencia natural, inteligencia artificial y agente."
      ]
    },
    {
      "cell_type": "markdown",
      "metadata": {},
      "source": [
        "Inteligencia natural: capacidad de los seres vivos (especialmente nosotros los humanos) para aprender, razonar, resolver problemas y adaptarse al entorno. Surge de procesos biológicos y tiene cierto factor emocional y subjetivo.\n",
        "\n",
        "Inteligencia artificial (IA): Capacidad de un sistema computacional para realizar tareas que normalmente requieren inteligencia humana, como reconocer patrones, tomar decisiones y aprender de la experiencia. Surge de procesos algorítmicos y carece de factor emocional y subjetivo.\n",
        "\n",
        "Agente: Es una entidad (física o virtual) que percibe su entorno mediante sensores y actúa sobre dicho entorno mediante actuadores, siguiendo un objetivo o meta."
      ]
    },
    {
      "cell_type": "markdown",
      "metadata": {},
      "source": [
        "\n",
        "2. ¿Qué es un agente racional?"
      ]
    },
    {
      "cell_type": "markdown",
      "metadata": {},
      "source": [
        "Un agente racional es aquel que, para cada posible secuencia de percepciones, elige la acción que maximiza su rendimiento esperado, considerando la información disponible y sus capacidades.\n"
      ]
    },
    {
      "cell_type": "markdown",
      "metadata": {},
      "source": [
        "3. ¿Un agente es siempre una computadora?"
      ]
    },
    {
      "cell_type": "markdown",
      "metadata": {},
      "source": [
        "No siempre. Puede ser un software, un robot físico o incluso un ser biológico (como los seres humanos). Lo importante es que cumpla con el ciclo percibir (mediante sensores) → razonar/decidir → actuar (mediante actuadores). Ejemplo:\n",
        "\n",
        "Software: Buscador web.\n",
        "\n",
        "Hardware: Robot aspiradora.\n",
        "\n",
        "Biológico: Abeja buscando néctar.\n"
      ]
    },
    {
      "cell_type": "markdown",
      "metadata": {},
      "source": [
        "4. Defina Omnisciencia, Aprendizaje y Autonomía."
      ]
    },
    {
      "cell_type": "markdown",
      "metadata": {},
      "source": [
        "Omnisciencia: Capacidad (teórica) de conocer todo lo que ocurre en el entorno, tanto pasado como presente. No es realista en agentes prácticos dado que ni el propio ser humano tiene dicha capacidad\n",
        "\n",
        "Aprendizaje: Proceso por el cual un agente mejora su desempeño mediante la experiencia viendo asi afectados sus parámetros internos\n",
        "\n",
        "Autonomía: Grado en que un agente puede operar sin intervención humana directa, usando su propio conocimiento para decidir acciones.\n"
      ]
    },
    {
      "cell_type": "markdown",
      "metadata": {},
      "source": [
        "5. Defina cada tipo de agente en función de su **estructura** y dé un ejemplo de cada categoría."
      ]
    },
    {
      "cell_type": "markdown",
      "metadata": {},
      "source": [
        "Agentes reactivos simples\n",
        "Estructura: No almacenan historial ni modelo del mundo. Responden únicamente a la percepción inmediata con una acción predefinida (regla condicional “si… entonces…”).\n",
        "\n",
        "Ventaja: Son rápidos y simples.\n",
        "\n",
        "Desventaja: No pueden planificar ni adaptarse a cambios que no estén contemplados en las reglas.\n",
        "\n",
        "Ejemplo: Termostato que enciende la calefacción si la temperatura baja de 18 °C.\n",
        "\n",
        "Agentes reactivos basados en modelos\n",
        "Estructura: Mantienen un modelo interno (estado del mundo) para compensar la información que no está disponible en el momento.\n",
        "\n",
        "Ventaja: Pueden tomar mejores decisiones con información incompleta.\n",
        "\n",
        "Desventaja: El modelo puede volverse inexacto si no se actualiza correctamente.\n",
        "\n",
        "Ejemplo: Robot aspiradora que recuerda qué zonas ya limpió.\n",
        "\n",
        "Agentes basados en objetivos\n",
        "Estructura: Deciden acciones evaluando si los acercan a una meta concreta, no solo en base a condiciones instantáneas.\n",
        "\n",
        "Ventaja: Mayor flexibilidad; pueden adaptarse a cambios para alcanzar la meta.\n",
        "\n",
        "Desventaja: Mayor costo computacional en la toma de decisiones.\n",
        "\n",
        "Ejemplo: GPS que calcula rutas para llegar a un destino.\n",
        "\n",
        "Agentes basados en la utilidad\n",
        "Estructura: No solo buscan alcanzar un objetivo, sino elegir la acción que maximice una función de utilidad (beneficio o satisfacción).\n",
        "\n",
        "Ventaja: Permite priorizar entre varias metas o caminos posibles.\n",
        "\n",
        "Desventaja: Requiere definir y cuantificar la utilidad, lo que no siempre es fácil.\n",
        "\n",
        "Ejemplo: Sistema de recomendación que sugiere la película con mayor probabilidad de que te guste.\n",
        "\n",
        "Agentes que aprenden\n",
        "Estructura: Ajustan su comportamiento mediante la experiencia, mejorando su desempeño en el tiempo. Pueden combinarse con cualquiera de las arquitecturas anteriores.\n",
        "\n",
        "Ventaja: Adaptativos a entornos cambiantes.\n",
        "\n",
        "Desventaja: Necesitan datos, tiempo de entrenamiento y pueden cometer errores durante el aprendizaje.\n",
        "\n",
        "Ejemplo: Asistente de voz que mejora el reconocimiento cuanto más lo usas.\n"
      ]
    },
    {
      "cell_type": "markdown",
      "metadata": {},
      "source": [
        "6. Para los siguientes entornos de trabajo indique sus **propiedades**:\n",
        "\n",
        "a. Una partida de ajedrez.\n",
        "\n",
        "Tomamos una partida normal entre 2 personas\n",
        "\n",
        "Observabilidad: Total (tablero visible en todo momento)\n",
        "Determinismo: Determinista (no hay azar)\n",
        "Episodicidad: Secuencial (cada jugada influye en las siguientes)\n",
        "Agentes: Múltiples (dos jugadores).\n",
        "Dinamismo: Estático (no cambia mientras se piensa)\n",
        "Discretización: Discreto (movimientos y posiciones definidos)\n",
        "        \n",
        "b. Un partido de baloncesto.\n",
        "\n",
        "Un partido de baloncesto de 5 vs 5 visto desde el punto de vista de los jugadores.\n",
        "\n",
        "Observabilidad: Parcial (no se puede percibir todo al mismo tiempo desde la cancha)\n",
        "Determinismo: Estocástico (rebotes, errores, decisiones humanas)\n",
        "Episodicidad: Secuencial (cada jugada influye en el resto)\n",
        "Agentes: Múltiples (dos equipos + árbitros)\n",
        "Dinamismo: Dinámico (el juego cambia constantemente, especialmente la ubicación de la pelota y los jugadores)\n",
        "Discretización: Continuo (movimientos, posiciones y tiempos son variables con infinitos valores)\n",
        "\n",
        "c. El juego Pacman.\n",
        "\n",
        "Observabilidad: Total (siempre se ve todo el mapa)\n",
        "Determinismo: Parcialmente estocástico (movimiento de fantasmas si bien está programado puede ser interpretado como aleatorio)\n",
        "Episodicidad: Secuencial\n",
        "Agentes: Múltiples (Pacman + fantasmas)\n",
        "Dinamismo: Dinámico (los fantasmas se mueven mientras decidimos por donde movernos)\n",
        "Discretización: Discreto (posiciones en cuadrícula)\n",
        "\n",
        "d. El truco.\n",
        "\n",
        "Entendido como una partida normal entre pares de personas\n",
        "\n",
        "Observabilidad: Parcial (cartas ocultas)\n",
        "Determinismo: Estocástico (depende de cartas repartidas al inicio)\n",
        "Episodicidad: Secuencial (depende de que se cante o tire primero)\n",
        "Agentes: Múltiples (2-4-6 jugadores)\n",
        "Dinamismo: Estático (el estado no cambia si nadie canta o tira)\n",
        "Discretización: Discreto (jugadas definidas)\n",
        "\n",
        "e. Las damas.\n",
        "\n",
        "Una partida clásica entre 2 personas\n",
        "\n",
        "Observabilidad: Total\n",
        "Determinismo: Determinista\n",
        "Episodicidad: Secuencial\n",
        "Agentes: Múltiples (dos jugadores)\n",
        "Dinamismo: Estático\n",
        "Discretización: Discreto\n",
        "\n",
        "f. El juego tres en raya.\n",
        "\n",
        "Partida clásica entre 2 jugadores \n",
        "\n",
        "Observabilidad: Total\n",
        "Determinismo: Determinista\n",
        "Episodicidad: Secuencial\n",
        "Agentes: Múltiples\n",
        "Dinamismo: Estático\n",
        "Discretización: Discreto\n",
        "\n",
        "g. Un jugador de Pokémon Go.\n",
        "\n",
        "Tomamos como modelo un jugador promedio\n",
        "\n",
        "Observabilidad: Parcial (no conoce todas las ubicaciones y eventos)\n",
        "Determinismo: Estocástico (aparición aleatoria de Pokémon)\n",
        "Episodicidad: Secuencial (basado en lo que puedes hacer en determinados eventoss o ya habiendo obtenido Pokemons)\n",
        "Agentes: Múltiples (otros jugadores y servidores del juego)\n",
        "Dinamismo: Dinámico (cambia según ubicación y tiempo real)\n",
        "Discretización: Continuo (mapa geográfico real, y por lo tanto con infinitas ubicaciones posibles)\n",
        "\n",
        "h. Un robot explorador autónomo de Marte.\n",
        "\n",
        "Robot explorador único.\n",
        "\n",
        "Observabilidad: Parcial (sensores limitados)\n",
        "Determinismo: Parcialmente estocástico (condiciones del terreno, fallos mecánicos)\n",
        "Episodicidad: Secuencial\n",
        "Agentes: Único (aunque podría coordinarse con otros)\n",
        "Dinamismo: Dinámico (cambia por clima o desplazamientos)\n",
        "Discretización: Continuo (movimiento y entorno físico, infinitas posiciones)\n"
      ]
    },
    {
      "cell_type": "markdown",
      "metadata": {},
      "source": []
    },
    {
      "cell_type": "markdown",
      "metadata": {},
      "source": [
        "7. Elabore una tabla REAS para los siguientes entornos de trabajo:\n",
        "\n",
        "|          |Rendimiento|Entorno|Actuadores|Sensores|\n",
        "|----------|-----------|-------|----------|--------|\n",
        "|Crucigrama|Número de palabras completadas, exactitud, tiempo empleado| Tablero del crucigrama, pistas dadas| Lápiz/teclado (escribir letras)|Vista para leer pistas y tablero|\n",
        "|Taxi circulando|Tiempo de llegada, seguridad, cumplimiento de normas, satisfacción del pasajero|Calles, semáforos, tráfico, clima, pasajeros|Volante, acelerador, freno, luces, intermitentes|GPS, velocímetro, cámaras, sensores de proximidad, micrófono (para indicaciones)|\n",
        "|Robot clasificador de piezas|Porcentaje de piezas correctamente clasificadas, velocidad de trabajo|Cinta transportadora, piezas con distintas formas y colores|Brazo robótico, mecanismo de empuje/clasificación|Cámara de visión artificial, sensores de forma/color|\n",
        "\n",
        "\n",
        "\n",
        "\n",
        "\n"
      ]
    },
    {
      "cell_type": "markdown",
      "metadata": {},
      "source": []
    },
    {
      "cell_type": "markdown",
      "metadata": {},
      "source": [
        "# Ejercicios Prácticos\n",
        "\n",
        "8. La Hormiga de Langton es un agente capaz de modificar el estado de la casilla en la que se encuentra para colorearla o bien de blanco o de negro. Al comenzar, la ubicación de la hormiga es una casilla aleatoria y mira hacia una de las cuatro casillas adyacentes. Si...\n",
        "\n",
        "* ... la casilla sobre la que está es blanca, cambia el color del cuadrado, gira noventa grados a la derecha y avanza un cuadrado.\n",
        "\n",
        "* ... la casilla sobre la que está es negra, cambia el color del cuadrado, gira noventa grados a la izquierda y avanza un cuadrado.\n",
        "\n",
        "    Caracterice el agente con su tabla REAS y las propiedades del entorno para después programarlo en Python:\n",
        "\n",
        "    ¿Observa que se repite algún patrón? De ser así, ¿a partir de qué iteración?"
      ]
    },
    {
      "cell_type": "code",
      "execution_count": null,
      "metadata": {
        "vscode": {
          "languageId": "plaintext"
        }
      },
      "outputs": [],
      "source": []
    },
    {
      "cell_type": "markdown",
      "metadata": {},
      "source": [
        "9. El Juego de la Vida de Conway consiste en un tablero donde cada casilla representa una célula, de manera que a cada célula le rodean 8 vecinas. Las células tienen dos estados: están *vivas* o *muertas*. En cada iteración, el estado de todas las células se tiene en cuenta para calcular el estado siguiente en simultáneo de acuerdo a las siguientes acciones:\n",
        "\n",
        "* Nacer: Si una célula muerta tiene exactamente 3 células vecinas vivas, dicha célula pasa a estar viva.\n",
        "\n",
        "* Morir: Una célula viva puede morir sobrepoblación cuando tiene más de tres vecinos alrededor o por aislamiento si tiene solo un vecino o ninguno.\n",
        "\n",
        "* Vivir: una célula se mantiene viva si tiene 2 o 3 vecinos a su alrededor.\n",
        "\n",
        "    Caracterice el agente con su tabla REAS y las propiedades del entorno para después programarlo en Python:"
      ]
    },
    {
      "cell_type": "code",
      "execution_count": null,
      "metadata": {
        "vscode": {
          "languageId": "plaintext"
        }
      },
      "outputs": [],
      "source": []
    },
    {
      "attachments": {},
      "cell_type": "markdown",
      "metadata": {
        "id": "oXcAF__NmgG5"
      },
      "source": [
        "# Bibliografía\n",
        "\n",
        "[Russell, S. & Norvig, P. (2004) _Inteligencia Artificial: Un Enfoque Moderno_. Pearson Educación S.A. (2a Ed.) Madrid, España](https://www.academia.edu/8241613/Inteligencia_Aritificial_Un_Enfoque_Moderno_2da_Edici%C3%B3n_Stuart_J_Russell_y_Peter_Norvig)\n",
        "\n",
        "[Poole, D. & Mackworth, A. (2023) _Artificial Intelligence: Foundations of Computational Agents_. Cambridge University Press (3a Ed.) Vancouver, Canada](https://artint.info/3e/html/ArtInt3e.html)"
      ]
    }
  ],
  "metadata": {
    "colab": {
      "provenance": []
    },
    "kernelspec": {
      "display_name": "Python 3",
      "name": "python3"
    },
    "language_info": {
      "name": "python"
    }
  },
  "nbformat": 4,
  "nbformat_minor": 0
}
